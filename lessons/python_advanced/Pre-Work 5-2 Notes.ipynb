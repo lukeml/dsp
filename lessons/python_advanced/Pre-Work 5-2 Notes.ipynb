{
 "cells": [
  {
   "cell_type": "code",
   "execution_count": 150,
   "metadata": {},
   "outputs": [],
   "source": [
    "from collections import defaultdict\n",
    "import re\n",
    "\n",
    "def count_degrees(csv_file_name):\n",
    "    \"\"\"\n",
    "    count_degrees reads a csv file and returns a dictionary with frequency counts of degrees\n",
    "    \n",
    "    ---\n",
    "    Input: csv file\n",
    "    Output: dictionary with degrees as keys, frequency counts as values\n",
    "    \n",
    "    \"\"\"\n",
    "    \n",
    "    with open(csv_file_name, 'r') as f:\n",
    "        counts = defaultdict(int)\n",
    "        my_list = []\n",
    "        header = f.readline()\n",
    "        print(header)\n",
    "        \n",
    "\n",
    "#         for line in f:\n",
    "#             print(line.rstrip('\\n').split(',')[1].lstrip().split(' '))\n",
    "            \n",
    "        my_list = [line.rstrip('\\n').split(',')[1].lstrip().split(' ') for line in f]\n",
    "        print(my_list)\n",
    "            # my_list.append(line.rstrip('\\n').split(',')[1])\n",
    "#             for item in line.rstrip('\\n').split(',')[1]:\n",
    "#                 print(item)\n",
    "#                 degree = re.split('\\s', item)\n",
    "#                 print(degree)\n",
    "            \n",
    "#         print(my_list)\n",
    "        \n",
    "#         for item in my_list:\n",
    "#             degree = re.split('\\s', item)\n",
    "#             print(degree)\n",
    "            \n",
    "#             degree = [line.rstrip('\\n').split(',')[1].split(' ')]\n",
    "#             print(degree)\n",
    "#             for item in degree:\n",
    "#                 print(item)\n",
    "#                 try:\n",
    "#                     counts[item] += 1\n",
    "#                 except KeyError:\n",
    "#                     counts[item] = 1\n",
    "                \n",
    "        return counts"
   ]
  },
  {
   "cell_type": "code",
   "execution_count": 176,
   "metadata": {},
   "outputs": [],
   "source": [
    "from collections import defaultdict\n",
    "import re\n",
    "\n",
    "def count_degrees_new(csv_file_name):\n",
    "    \"\"\"\n",
    "    count_degrees reads a csv file and returns a dictionary with frequency counts of degrees\n",
    "    \n",
    "    ---\n",
    "    Input: csv file\n",
    "    Output: dictionary with degrees as keys, frequency counts as values\n",
    "    \n",
    "    \"\"\"\n",
    "    \n",
    "    with open(csv_file_name, 'r') as f:\n",
    "        string_of_degrees = ''\n",
    "        counts = defaultdict(int)\n",
    "        degree_list = []\n",
    "        header = f.readline()\n",
    "        # print(header)\n",
    "        \n",
    "        # Create long string of degrees: string_of_degrees\n",
    "        for line in f:\n",
    "            string_of_degrees += line.rstrip('\\n').split(',')[1].lstrip() + \" \"\n",
    "        \n",
    "        # print(string_of_degrees)\n",
    "        \n",
    "        # Convert string_of_degrees to list: degree_list\n",
    "        degree_list = string_of_degrees.rstrip().split(' ')\n",
    "        # print(degree_list)\n",
    "        \n",
    "        # Standardize degree_list: standard_list\n",
    "        standard_list = [re.sub('\\.','',degree) for degree in degree_list]\n",
    "        # print(standard_list)\n",
    "        \n",
    "        # Count degrees in list: counts\n",
    "        for degree in standard_list:\n",
    "            counts[degree] +=1\n",
    "        \n",
    "                  \n",
    "    return counts\n",
    "        "
   ]
  },
  {
   "cell_type": "code",
   "execution_count": 177,
   "metadata": {},
   "outputs": [
    {
     "data": {
      "text/plain": [
       "defaultdict(int,\n",
       "            {'ScD': 6,\n",
       "             'PhD': 31,\n",
       "             'MD': 1,\n",
       "             'MPH': 2,\n",
       "             'BSEd': 1,\n",
       "             'MS': 2,\n",
       "             'JD': 1,\n",
       "             'MA': 1,\n",
       "             '0': 1})"
      ]
     },
     "execution_count": 177,
     "metadata": {},
     "output_type": "execute_result"
    }
   ],
   "source": [
    "count_degrees_new('faculty.csv')"
   ]
  },
  {
   "cell_type": "code",
   "execution_count": 91,
   "metadata": {},
   "outputs": [],
   "source": [
    "from collections import defaultdict\n",
    "import re\n",
    "\n",
    "def count_degrees2(csv_file_name):\n",
    "    \"\"\"\n",
    "    count_degrees reads a csv file and returns a dictionary with frequency counts of degrees\n",
    "    \n",
    "    ---\n",
    "    Input: csv file\n",
    "    Output: dictionary with degrees as keys, frequency counts as values\n",
    "    \n",
    "    \"\"\"\n",
    "    \n",
    "    with open(csv_file_name, 'r') as f:\n",
    "        # counts = {}\n",
    "        counts = defaultdict(int)\n",
    "        # my_list = []\n",
    "        header = f.readline()\n",
    "        #print(header)\n",
    "        stripped_lines = [l.split(',')[1].lstrip() for l in f.readlines()]\n",
    "        #print(stripped_lines)\n",
    "        \n",
    "        for item in stripped_lines:\n",
    "#             print(item)\n",
    "#             print(len(re.findall('ph\\.?d\\.?', item.lower())))\n",
    "            \n",
    "#            try:\n",
    "            counts['PhDs'] += len(re.findall('ph\\.?d\\.?', item.lower()))\n",
    "            counts['ScDs'] += len(re.findall('sc\\.?d\\.?', item.lower()))\n",
    "            counts['MDs'] += len(re.findall('m\\.?d\\.?', item.lower()))\n",
    "            counts['MPHs'] += len(re.findall('m\\.?p\\.?h\\.?', item.lower()))\n",
    "            counts['BSEds'] += len(re.findall('b\\.?s\\.?e\\.?d\\.?', item.lower()))\n",
    "            counts['MSs'] += len(re.findall('m\\.?s\\.?', item.lower()))\n",
    "            counts['JDs'] += len(re.findall('j\\.?d\\.?', item.lower()))\n",
    "            counts['MAs'] += len(re.findall('m\\.?a\\.?', item.lower()))\n",
    "            \n",
    "            \n",
    "#             except KeyError:\n",
    "#                 counts['PhDs'] = len(re.findall('ph\\.?d\\.?', item.lower()))\n",
    "#                 counts['ScDs'] = len(re.findall('sc\\.?d\\.?', item.lower()))\n",
    "#                 counts['MDs'] = len(re.findall('m\\.?d\\.?', item.lower()))\n",
    "#                 counts['MPHs'] = len(re.findall('m\\.?p\\.?h\\.?', item.lower()))\n",
    "#                 counts['BSEds'] = len(re.findall('b\\.?s\\.?e\\.?d\\.?', item.lower()))\n",
    "#                 counts['MSs'] = len(re.findall('m\\.?s\\.?', item.lower()))\n",
    "        \n",
    "                \n",
    "    return counts"
   ]
  },
  {
   "cell_type": "code",
   "execution_count": 92,
   "metadata": {},
   "outputs": [
    {
     "data": {
      "text/plain": [
       "defaultdict(int,\n",
       "            {'PhDs': 31,\n",
       "             'ScDs': 6,\n",
       "             'MDs': 1,\n",
       "             'MPHs': 2,\n",
       "             'BSEds': 1,\n",
       "             'MSs': 2,\n",
       "             'JDs': 1,\n",
       "             'MAs': 1})"
      ]
     },
     "execution_count": 92,
     "metadata": {},
     "output_type": "execute_result"
    }
   ],
   "source": [
    "count_degrees2('faculty.csv')"
   ]
  },
  {
   "cell_type": "code",
   "execution_count": 95,
   "metadata": {},
   "outputs": [],
   "source": [
    "def count_degrees3(csv_file_name):\n",
    "    #Read in file\n",
    "    import csv\n",
    "    with open(csv_file_name) as csv_file:\n",
    "        read_csv = csv.reader(csv_file, delimiter=',')\n",
    "        \n",
    "        #Define header line/fieldname titles\n",
    "        header = next(read_csv)\n",
    "        \n",
    "        #Take out list of degrees\n",
    "        degrees = []\n",
    "        for row in read_csv:\n",
    "            degree = row[1]\n",
    "            degrees.append(degree)\n",
    "        \n",
    "        #Clean up list of degrees (i.e. remove extra spaces, periods, and \n",
    "        #split into separate string for each degree)\n",
    "        degrees_cleaned = []\n",
    "        for string in degrees:\n",
    "            string = string.strip().replace('.','').split(' ')\n",
    "            degrees_cleaned.append(string)\n",
    "        \n",
    "        #Create defaultDict for degree counts in file\n",
    "        from collections import defaultdict\n",
    "        count = defaultdict(int)\n",
    "        \n",
    "        for degree in degrees_cleaned:\n",
    "            for i in degree:\n",
    "                count[i] += 1\n",
    "\n",
    "    return count"
   ]
  },
  {
   "cell_type": "code",
   "execution_count": 96,
   "metadata": {},
   "outputs": [],
   "source": [
    "# Complete the function below.\n",
    "import os\n",
    "import re\n",
    "import csv\n",
    "from collections import Counter\n",
    "\n",
    "def count_degrees4(csv_file_name):\n",
    "    # read in file\n",
    "    with open(csv_file_name,'r') as csv_file:\n",
    "        reader = csv.reader(csv_file, delimiter=',')\n",
    "        data = list(reader)\n",
    "\n",
    "    # get degrees\n",
    "    degrees = []\n",
    "    for l in data[1:]:\n",
    "        degrees.extend(l[1].split())\n",
    "\n",
    "    # standardize degrees\n",
    "    degrees = [re.sub('\\.','',d) for d in degrees]\n",
    "\n",
    "    # count degrees\n",
    "    count = Counter(degrees)\n",
    "\n",
    "    return count"
   ]
  },
  {
   "cell_type": "code",
   "execution_count": 120,
   "metadata": {},
   "outputs": [],
   "source": [
    "# Complete the function below.\n",
    "import re\n",
    "import csv\n",
    "from collections import defaultdict\n",
    "\n",
    "def count_degrees5(csv_file_name):\n",
    "    \"\"\"\n",
    "    Read a .csv file and return a dictionary where they keys are degrees\n",
    "    and the values are their frequencies in the file.\n",
    "\n",
    "    Input: .csv file\n",
    "    Output: dict\n",
    "    \"\"\"\n",
    "    degree_dict = defaultdict(int)\n",
    "\n",
    "    # view csv file as iterable reader object with info from each row\n",
    "    # mapped to an OrderedDict \n",
    "    with open(csv_file_name, newline = '') as csvfile:\n",
    "            \n",
    "        reader = csv.DictReader(csvfile, fieldnames = ('name', 'degree', 'title', 'email'))\n",
    "        next(reader)\n",
    "        \n",
    "        for row in reader:\n",
    "            degrees = re.split(r\"\\s\", row['degree'])\n",
    "            for degree in degrees:\n",
    "                if degree != \"\":\n",
    "                    degree_dict[degree.replace(\".\", \"\")] += 1\n",
    "\n",
    "    return degree_dict"
   ]
  },
  {
   "cell_type": "code",
   "execution_count": 121,
   "metadata": {},
   "outputs": [
    {
     "data": {
      "text/plain": [
       "defaultdict(int,\n",
       "            {'ScD': 6,\n",
       "             'PhD': 31,\n",
       "             'MD': 1,\n",
       "             'MPH': 2,\n",
       "             'BSEd': 1,\n",
       "             'MS': 2,\n",
       "             'JD': 1,\n",
       "             'MA': 1,\n",
       "             '0': 1})"
      ]
     },
     "execution_count": 121,
     "metadata": {},
     "output_type": "execute_result"
    }
   ],
   "source": [
    "count_degrees5('faculty.csv')"
   ]
  },
  {
   "cell_type": "code",
   "execution_count": 192,
   "metadata": {},
   "outputs": [],
   "source": [
    "from collections import defaultdict\n",
    "import re\n",
    "\n",
    "def count_titles(csv_file_name):\n",
    "    \"\"\"\n",
    "    Read csv file and return standardized list of titles and frequencies\n",
    "    \n",
    "    ---\n",
    "    \n",
    "    Input: csv file\n",
    "    Output: dictionary with degrees as keys, frequency counts as values\n",
    "    \n",
    "    \"\"\"\n",
    "    \n",
    "    with open(csv_file_name, 'r') as f:\n",
    "        string_of_titles = ''\n",
    "        counts = defaultdict(int)\n",
    "        title_list = []\n",
    "        header = f.readline()\n",
    "        # print(header)\n",
    "        \n",
    "        # Create long string of titles: string_of_titles\n",
    "        for line in f:\n",
    "            string_of_titles += line.rstrip('\\n').split(',')[2].lstrip() + \",\"\n",
    "        \n",
    "        # print(string_of_titles)\n",
    "        \n",
    "        # Convert string_of_titles to list: title_list\n",
    "        title_list = string_of_titles.rstrip(',').split(',')\n",
    "        # print(title_list)\n",
    "        \n",
    "        # Standardize title_list: standard_list\n",
    "        standard_list = [re.sub(' is',' of',title) for title in title_list]\n",
    "        # print(standard_list)\n",
    "        \n",
    "        # Count titles in list: counts\n",
    "        for title in standard_list:\n",
    "            counts[title] +=1\n",
    "        \n",
    "                  \n",
    "    return counts\n",
    "    \n",
    "    "
   ]
  },
  {
   "cell_type": "code",
   "execution_count": 193,
   "metadata": {
    "scrolled": true
   },
   "outputs": [
    {
     "data": {
      "text/plain": [
       "defaultdict(int,\n",
       "            {'Associate Professor of Biostatistics': 12,\n",
       "             'Professor of Biostatistics': 13,\n",
       "             'Assistant Professor of Biostatistics': 12})"
      ]
     },
     "execution_count": 193,
     "metadata": {},
     "output_type": "execute_result"
    }
   ],
   "source": [
    "count_titles('faculty.csv')"
   ]
  },
  {
   "cell_type": "code",
   "execution_count": null,
   "metadata": {},
   "outputs": [],
   "source": []
  },
  {
   "cell_type": "code",
   "execution_count": null,
   "metadata": {},
   "outputs": [],
   "source": []
  }
 ],
 "metadata": {
  "kernelspec": {
   "display_name": "Python 3",
   "language": "python",
   "name": "python3"
  },
  "language_info": {
   "codemirror_mode": {
    "name": "ipython",
    "version": 3
   },
   "file_extension": ".py",
   "mimetype": "text/x-python",
   "name": "python",
   "nbconvert_exporter": "python",
   "pygments_lexer": "ipython3",
   "version": "3.7.6"
  }
 },
 "nbformat": 4,
 "nbformat_minor": 4
}
