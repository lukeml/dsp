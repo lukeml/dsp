{
 "cells": [
  {
   "cell_type": "code",
   "execution_count": 71,
   "metadata": {},
   "outputs": [],
   "source": [
    "def read_data(filename):\n",
    "    \"\"\"Returns a list of lists representing the rows of the csv file data.\n",
    "\n",
    "    Arguments: filename is the name of a csv file (as a string)\n",
    "    Returns: list of lists of strings, where every line is split into a list of values. \n",
    "        ex: ['Arsenal', 38, 26, 9, 3, 79, 36, 87]\n",
    "    \"\"\"\n",
    "    with open(filename, 'r') as f:\n",
    "        my_list = []\n",
    "        for line in f:\n",
    "            my_list.append(line.rstrip('\\n').split(','))\n",
    "        return my_list[1:]"
   ]
  },
  {
   "cell_type": "code",
   "execution_count": 72,
   "metadata": {},
   "outputs": [],
   "source": [
    "test_list = read_data('football.csv')"
   ]
  },
  {
   "cell_type": "code",
   "execution_count": 73,
   "metadata": {},
   "outputs": [
    {
     "data": {
      "text/plain": [
       "[['Arsenal', '38', '26', '9', '3', '79', '36', '87'],\n",
       " ['Liverpool', '38', '24', '8', '6', '67', '30', '80'],\n",
       " ['Manchester United', '38', '24', '5', '9', '87', '45', '77'],\n",
       " ['Newcastle', '38', '21', '8', '9', '74', '52', '71'],\n",
       " ['Leeds', '38', '18', '12', '8', '53', '37', '66'],\n",
       " ['Chelsea', '38', '17', '13', '8', '66', '38', '64'],\n",
       " ['West_Ham', '38', '15', '8', '15', '48', '57', '53'],\n",
       " ['Aston_Villa', '38', '12', '14', '12', '46', '47', '50'],\n",
       " ['Tottenham', '38', '14', '8', '16', '49', '53', '50'],\n",
       " ['Blackburn', '38', '12', '10', '16', '55', '51', '46'],\n",
       " ['Southampton', '38', '12', '9', '17', '46', '54', '45'],\n",
       " ['Middlesbrough', '38', '12', '9', '17', '35', '47', '45'],\n",
       " ['Fulham', '38', '10', '14', '14', '36', '44', '44'],\n",
       " ['Charlton', '38', '10', '14', '14', '38', '49', '44'],\n",
       " ['Everton', '38', '11', '10', '17', '45', '57', '43'],\n",
       " ['Bolton', '38', '9', '13', '16', '44', '62', '40'],\n",
       " ['Sunderland', '38', '10', '10', '18', '29', '51', '40'],\n",
       " ['Ipswich', '38', '9', '9', '20', '41', '64', '36'],\n",
       " ['Derby', '38', '8', '6', '24', '33', '63', '30'],\n",
       " ['Leicester', '38', '5', '13', '20', '30', '64', '28']]"
      ]
     },
     "execution_count": 73,
     "metadata": {},
     "output_type": "execute_result"
    }
   ],
   "source": [
    "test_list"
   ]
  },
  {
   "cell_type": "code",
   "execution_count": 77,
   "metadata": {},
   "outputs": [
    {
     "ename": "TypeError",
     "evalue": "unsupported operand type(s) for -: 'str' and 'int'",
     "output_type": "error",
     "traceback": [
      "\u001b[0;31m---------------------------------------------------------------------------\u001b[0m",
      "\u001b[0;31mTypeError\u001b[0m                                 Traceback (most recent call last)",
      "\u001b[0;32m<ipython-input-77-414b80cc89d9>\u001b[0m in \u001b[0;36m<module>\u001b[0;34m\u001b[0m\n\u001b[0;32m----> 1\u001b[0;31m \u001b[0mabs\u001b[0m\u001b[0;34m(\u001b[0m\u001b[0mint\u001b[0m\u001b[0;34m(\u001b[0m\u001b[0mtest_list\u001b[0m\u001b[0;34m[\u001b[0m\u001b[0;36m0\u001b[0m\u001b[0;34m]\u001b[0m\u001b[0;34m[\u001b[0m\u001b[0;34m-\u001b[0m\u001b[0;36m2\u001b[0m\u001b[0;34m]\u001b[0m\u001b[0;34m-\u001b[0m\u001b[0mint\u001b[0m\u001b[0;34m(\u001b[0m\u001b[0mtest_list\u001b[0m\u001b[0;34m[\u001b[0m\u001b[0;36m0\u001b[0m\u001b[0;34m]\u001b[0m\u001b[0;34m[\u001b[0m\u001b[0;34m-\u001b[0m\u001b[0;36m3\u001b[0m\u001b[0;34m]\u001b[0m\u001b[0;34m)\u001b[0m\u001b[0;34m)\u001b[0m\u001b[0;34m)\u001b[0m\u001b[0;34m\u001b[0m\u001b[0;34m\u001b[0m\u001b[0m\n\u001b[0m",
      "\u001b[0;31mTypeError\u001b[0m: unsupported operand type(s) for -: 'str' and 'int'"
     ]
    }
   ],
   "source": [
    "abs(int(test_list[0][-2]-int(test_list[0][-3])))"
   ]
  },
  {
   "cell_type": "code",
   "execution_count": 81,
   "metadata": {},
   "outputs": [
    {
     "data": {
      "text/plain": [
       "43"
      ]
     },
     "execution_count": 81,
     "metadata": {},
     "output_type": "execute_result"
    }
   ],
   "source": [
    "abs(int(test_list[0][-2]) - int(test_list[0][-3]))"
   ]
  },
  {
   "cell_type": "code",
   "execution_count": 82,
   "metadata": {},
   "outputs": [],
   "source": [
    "def get_index_with_min_abs_score_difference(goals):\n",
    "    row_min = abs(int(goals[0][-2]) - int(goals[0][-3]))\n",
    "    index_min = 0\n",
    "    \n",
    "    for ix, row in enumerate(goals):\n",
    "        if abs(int(row[-2]) - int(row[-3])) < row_min:\n",
    "            row_min = abs(int(row[-2]) - int(row[-3]))\n",
    "            index_min = ix\n",
    "            \n",
    "    return index_min"
   ]
  },
  {
   "cell_type": "code",
   "execution_count": 83,
   "metadata": {},
   "outputs": [
    {
     "data": {
      "text/plain": [
       "7"
      ]
     },
     "execution_count": 83,
     "metadata": {},
     "output_type": "execute_result"
    }
   ],
   "source": [
    "get_index_with_min_abs_score_difference(test_list)"
   ]
  },
  {
   "cell_type": "code",
   "execution_count": 91,
   "metadata": {},
   "outputs": [],
   "source": [
    "def get_team(index_value, parsed_data):\n",
    "    \"\"\"Returns the team name at a given index.\n",
    "    \n",
    "    Arguments: index_value is an integer row index\n",
    "               parsed_data is the output of `read_data` above\n",
    "               \n",
    "    Returns: the team name\n",
    "    \"\"\"\n",
    "    \n",
    "    return parsed_data[index_value][0]"
   ]
  },
  {
   "cell_type": "code",
   "execution_count": 92,
   "metadata": {},
   "outputs": [
    {
     "data": {
      "text/plain": [
       "'Aston_Villa'"
      ]
     },
     "execution_count": 92,
     "metadata": {},
     "output_type": "execute_result"
    }
   ],
   "source": [
    "get_team(7, test_list)"
   ]
  },
  {
   "cell_type": "code",
   "execution_count": 93,
   "metadata": {},
   "outputs": [],
   "source": [
    "a = {'first': 123, 'second':456, 'third': {1:1,2:2}, 'fourth':{1:1,2:2}, 'fifth':555}"
   ]
  },
  {
   "cell_type": "code",
   "execution_count": 94,
   "metadata": {},
   "outputs": [
    {
     "name": "stdout",
     "output_type": "stream",
     "text": [
      "{'first': 123, 'second': 456, 'third': {1: 1, 2: 2}, 'fourth': {1: 1, 2: 2}, 'fifth': 555}\n"
     ]
    }
   ],
   "source": [
    "print(a)"
   ]
  },
  {
   "cell_type": "code",
   "execution_count": 95,
   "metadata": {},
   "outputs": [],
   "source": [
    "import pprint as pp"
   ]
  },
  {
   "cell_type": "code",
   "execution_count": 98,
   "metadata": {},
   "outputs": [
    {
     "name": "stdout",
     "output_type": "stream",
     "text": [
      "{'fifth': 555,\n",
      " 'first': 123,\n",
      " 'fourth': {1: 1, 2: 2},\n",
      " 'second': 456,\n",
      " 'third': {1: 1, 2: 2}}\n"
     ]
    }
   ],
   "source": [
    "pp.pprint(a)"
   ]
  },
  {
   "cell_type": "code",
   "execution_count": 99,
   "metadata": {},
   "outputs": [
    {
     "name": "stdout",
     "output_type": "stream",
     "text": [
      "{'fifth': 555,\n",
      " 'first': 123,\n",
      " 'fourth': {1: 1,\n",
      "            2: 2},\n",
      " 'second': 456,\n",
      " 'third': {1: 1,\n",
      "           2: 2}}\n"
     ]
    }
   ],
   "source": [
    "pp.pprint(a, width=2)"
   ]
  },
  {
   "cell_type": "code",
   "execution_count": 100,
   "metadata": {},
   "outputs": [],
   "source": [
    "mylist = [\"it's\", 'only', 'a', 'model']"
   ]
  },
  {
   "cell_type": "code",
   "execution_count": 101,
   "metadata": {},
   "outputs": [
    {
     "name": "stdout",
     "output_type": "stream",
     "text": [
      "0 it's\n",
      "1 only\n",
      "2 a\n",
      "3 model\n"
     ]
    }
   ],
   "source": [
    "for index, item in enumerate(mylist):\n",
    "    print(index, item)"
   ]
  },
  {
   "cell_type": "code",
   "execution_count": null,
   "metadata": {},
   "outputs": [],
   "source": []
  }
 ],
 "metadata": {
  "kernelspec": {
   "display_name": "Python 3",
   "language": "python",
   "name": "python3"
  },
  "language_info": {
   "codemirror_mode": {
    "name": "ipython",
    "version": 3
   },
   "file_extension": ".py",
   "mimetype": "text/x-python",
   "name": "python",
   "nbconvert_exporter": "python",
   "pygments_lexer": "ipython3",
   "version": "3.7.6"
  }
 },
 "nbformat": 4,
 "nbformat_minor": 4
}
